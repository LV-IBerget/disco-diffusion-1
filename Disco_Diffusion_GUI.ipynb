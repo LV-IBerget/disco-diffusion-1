{
 "cells": [
  {
   "cell_type": "code",
   "execution_count": null,
   "metadata": {},
   "outputs": [],
   "source": [
    "# Set Up Environment\n",
    "\n",
    "**Run is Required.**\n",
    "\n",
    "Run this cell to generate a GUI for editing your run settings.\n",
    "\n",
    "import dd_gui"
   ]
  },
  {
   "cell_type": "markdown",
   "metadata": {},
   "source": [
    "import requests\n",
    "from IPython.display import Markdown as md\n",
    "md(requests.get('https://raw.githubusercontent.com/entmike/disco-diffusion-1/main/NOTEBOOK-README.md').text)"
   ]
  },
  {
   "cell_type": "code",
   "execution_count": null,
   "metadata": {},
   "outputs": [],
   "source": [
    "import requests\n",
    "from IPython.display import Markdown as md\n",
    "md(requests.get('https://raw.githubusercontent.com/entmike/disco-diffusion-1/main/NOTEBOOK-README.md').text)"
   ]
  }
 ],
 "metadata": {
  "language_info": {
   "name": "python"
  },
  "orig_nbformat": 4
 },
 "nbformat": 4,
 "nbformat_minor": 2
}
